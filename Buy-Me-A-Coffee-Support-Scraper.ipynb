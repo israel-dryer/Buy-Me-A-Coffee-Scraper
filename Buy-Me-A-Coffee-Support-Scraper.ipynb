{
 "cells": [
  {
   "cell_type": "markdown",
   "metadata": {},
   "source": [
    "# Buy Me A Coffee Support Scraper\n",
    "Extract support data and create a markdown table"
   ]
  },
  {
   "cell_type": "code",
   "execution_count": 1,
   "metadata": {},
   "outputs": [],
   "source": [
    "import re\n",
    "from time import sleep\n",
    "import requests\n",
    "from bs4 import BeautifulSoup"
   ]
  },
  {
   "cell_type": "code",
   "execution_count": 2,
   "metadata": {},
   "outputs": [],
   "source": [
    "url = \"https://www.buymeacoffee.com/PySimpleGUI\"\n",
    "\n",
    "headers = {\n",
    "    \"accept\": \"text/html,application/xhtml+xml,application/xml;q=0.9,image/webp,image/apng,*/*;q=0.8,application/signed-exchange;v=b3;q=0.9\",\n",
    "    \"accept-encoding\": \"gzip, deflate, br\",\n",
    "    \"accept-language\": \"en-US,en;q=0.9\",\n",
    "    \"cache-control\": \"max-age=0\",\n",
    "    \"sec-fetch-dest\": \"document\",\n",
    "    \"sec-fetch-mode\": \"navigate\",\n",
    "    \"sec-fetch-site\": \"none\",\n",
    "    \"sec-fetch-user\": \"?1\",\n",
    "    \"upgrade-insecure-requests\": \"1\",\n",
    "    \"user-agent\": \"Mozilla/5.0 (Windows NT 10.0; Win64; x64) AppleWebKit/537.36 (KHTML, like Gecko) Chrome/86.0.4240.111 Safari/537.36 Edg/86.0.622.51\"\n",
    "}\n",
    "\n",
    "params = {\n",
    "    \"page\":0,\n",
    "    \"notification\":1\n",
    "}"
   ]
  },
  {
   "cell_type": "code",
   "execution_count": 3,
   "metadata": {},
   "outputs": [],
   "source": [
    "def main(url, headers, params):\n",
    "    \"\"\"Get card data from page\"\"\"\n",
    "    page_cards = []\n",
    "    \n",
    "    # create persistant session\n",
    "    session = requests.Session()\n",
    "    response = session.get(url, headers=headers)\n",
    "\n",
    "    # get first page of cards\n",
    "    soup = BeautifulSoup(response.text, 'html.parser')\n",
    "    cards = soup.find_all('div', 'donation-sec')\n",
    "\n",
    "    # collect all card data\n",
    "    for card in cards:\n",
    "        image = card.find('img').get('data-src')\n",
    "        user = card.find('img').get('alt')\n",
    "        coffee = card.find(text=re.compile(r'bought'))\n",
    "        page_cards.append((image, user, coffee))    \n",
    "\n",
    "    # collect all remaining cards\n",
    "    while True:\n",
    "        sleep(1)\n",
    "        params['page'] += 1\n",
    "        response = session.get(url, headers=headers, params=params)\n",
    "        \n",
    "        # check to see if there are any cards\n",
    "        if not response.text:\n",
    "            break\n",
    "        \n",
    "        # get next page of cards\n",
    "        soup = BeautifulSoup(response.text, 'html.parser')\n",
    "        cards = soup.find_all('div', 'donation-sec')\n",
    "\n",
    "        # collect all card data\n",
    "        for card in cards:\n",
    "            image = card.find('img').get('data-src')\n",
    "            user = (card.find('img').get('alt').strip() or \"Someone\")\n",
    "            coffee = card.find(text=re.compile(r'bought'))\n",
    "            page_cards.append((image, user, coffee))\n",
    "            \n",
    "    return page_cards"
   ]
  },
  {
   "cell_type": "code",
   "execution_count": 4,
   "metadata": {},
   "outputs": [],
   "source": [
    "def create_md_table(donations):\n",
    "    \"\"\"Generate markdown table form donations data\"\"\"\n",
    "    table = \"\"\"|  | user | support |  \\n|---|---|---|  \\n\"\"\"\n",
    "    for row in donations:\n",
    "        table += '| <img src=\"{}\" width=25> | {} | {} |  \\n'.format(*row)\n",
    "    return table"
   ]
  },
  {
   "cell_type": "code",
   "execution_count": 5,
   "metadata": {},
   "outputs": [],
   "source": [
    "# run main program\n",
    "donations = main(url, headers, params)\n",
    "\n",
    "# generate markdown table\n",
    "md_table = create_md_table(donations)"
   ]
  },
  {
   "cell_type": "code",
   "execution_count": 6,
   "metadata": {},
   "outputs": [
    {
     "name": "stdout",
     "output_type": "stream",
     "text": [
      "|  | user | support |  \n",
      "|---|---|---|  \n",
      "| <img src=\"https://img.buymeacoffee.com/api/?name=%40ktrinko&size=300&bg-image=bmc&background=5F7FFF\" width=25> | @ktrinko | bought 3 coffee |  \n",
      "| <img src=\"https://img.buymeacoffee.com/api/?url=aHR0cHM6Ly9jZG4uYnV5bWVhY29mZmVlLmNvbS91cGxvYWRzL3Byb2ZpbGVfcGljdHVyZXMvMjAyMC8wMS9jNGYwNmUxMThlNTg5MTgyOWZlZjMxNWRmZWVlMzgyMS5qcGc=&size=150&name=Paolo+Amoroso\" width=25> | Paolo Amoroso | bought a coffee |  \n",
      "| <img src=\"https://img.buymeacoffee.com/api/?name=Someone&size=300&bg-image=bmc&background=5F7FFF\" width=25> |  | bought 5 coffee |  \n",
      "| <img src=\"https://img.buymeacoffee.com/api/?name=%40RYRJB&size=300&bg-image=bmc&background=5F7FFF\" width=25> | @RYRJB | bought 5 coffee |  \n",
      "| <img src=\"https://img.buymeacoffee.com/api/?name=Thiagojm&size=300&bg-image=bmc&background=5F7FFF\" width=25> | Thiagojm | bought 5 coffee |  \n",
      "| <img src=\"https://img.buymeacoffee.com/api/?name=%40tuakau66&size=300&bg-image=bmc&background=5F7FFF\" width=25> | @tuakau66 | bought 3 coffee |  \n",
      "| <img src=\"https://img.buymeacoffee.com/api/?name=Cheong+Koo&size=300&bg-image=bmc&background=5F7FFF\" width=25> | Cheong Koo | bought 3 coffee |  \n",
      "| <img src=\"https://img.buymeacoffee.com/api/?name=Miodrag+Mili%C4%8Devi%C4%87&size=300&bg-image=bmc&background=5F7FFF\" width=25> | Miodrag Miličević | bought 15 coffee |  \n",
      "| <img src=\"https://img.buymeacoffee.com/api/?name=Someone&size=300&bg-image=bmc&background=5F7FFF\" width=25> | Someone | bought 7 coffee |  \n",
      "| <img src=\"https://img.buymeacoffee.com/api/?name=Laura+Becker&size=300&bg-image=bmc&background=5F7FFF\" width=25> | Laura Becker | bought 5 coffee |  \n",
      "| <img src=\"https://img.buymeacoffee.com/api/?name=%40rikhuygen&size=300&bg-image=bmc&background=5F7FFF\" width=25> | @rikhuygen | bought 3 coffee |  \n",
      "| <img src=\"https://img.buymeacoffee.com/api/?name=jeff%40puffergas.com&size=300&bg-image=bmc&background=5F7FFF\" width=25> | jeff@puffergas.com | bought 5 coffee |  \n",
      "| <img src=\"https://img.buymeacoffee.com/api/?name=Mike&size=300&bg-image=bmc&background=5F7FFF\" width=25> | Mike | bought a coffee |  \n",
      "\n"
     ]
    }
   ],
   "source": [
    "print(md_table)"
   ]
  },
  {
   "cell_type": "markdown",
   "metadata": {},
   "source": [
    "### Insert the markdown text into a \"markdown\" cell"
   ]
  },
  {
   "cell_type": "markdown",
   "metadata": {},
   "source": [
    "|  | user | support |  \n",
    "|---|---|---|  \n",
    "| <img src=\"https://img.buymeacoffee.com/api/?name=%40ktrinko&size=300&bg-image=bmc&background=5F7FFF\" width=25> | @ktrinko | bought 3 coffee |  \n",
    "| <img src=\"https://img.buymeacoffee.com/api/?url=aHR0cHM6Ly9jZG4uYnV5bWVhY29mZmVlLmNvbS91cGxvYWRzL3Byb2ZpbGVfcGljdHVyZXMvMjAyMC8wMS9jNGYwNmUxMThlNTg5MTgyOWZlZjMxNWRmZWVlMzgyMS5qcGc=&size=150&name=Paolo+Amoroso\" width=25> | Paolo Amoroso | bought a coffee |  \n",
    "| <img src=\"https://img.buymeacoffee.com/api/?name=Someone&size=300&bg-image=bmc&background=5F7FFF\" width=25> |  | bought 5 coffee |  \n",
    "| <img src=\"https://img.buymeacoffee.com/api/?name=%40RYRJB&size=300&bg-image=bmc&background=5F7FFF\" width=25> | @RYRJB | bought 5 coffee |  \n",
    "| <img src=\"https://img.buymeacoffee.com/api/?name=Thiagojm&size=300&bg-image=bmc&background=5F7FFF\" width=25> | Thiagojm | bought 5 coffee |  \n",
    "| <img src=\"https://img.buymeacoffee.com/api/?name=%40tuakau66&size=300&bg-image=bmc&background=5F7FFF\" width=25> | @tuakau66 | bought 3 coffee |  \n",
    "| <img src=\"https://img.buymeacoffee.com/api/?name=Cheong+Koo&size=300&bg-image=bmc&background=5F7FFF\" width=25> | Cheong Koo | bought 3 coffee |  \n",
    "| <img src=\"https://img.buymeacoffee.com/api/?name=Miodrag+Mili%C4%8Devi%C4%87&size=300&bg-image=bmc&background=5F7FFF\" width=25> | Miodrag Miličević | bought 15 coffee |  \n",
    "| <img src=\"https://img.buymeacoffee.com/api/?name=Someone&size=300&bg-image=bmc&background=5F7FFF\" width=25> | Someone | bought 7 coffee |  \n",
    "| <img src=\"https://img.buymeacoffee.com/api/?name=Laura+Becker&size=300&bg-image=bmc&background=5F7FFF\" width=25> | Laura Becker | bought 5 coffee |  \n",
    "| <img src=\"https://img.buymeacoffee.com/api/?name=%40rikhuygen&size=300&bg-image=bmc&background=5F7FFF\" width=25> | @rikhuygen | bought 3 coffee |  \n",
    "| <img src=\"https://img.buymeacoffee.com/api/?name=jeff%40puffergas.com&size=300&bg-image=bmc&background=5F7FFF\" width=25> | jeff@puffergas.com | bought 5 coffee |  \n",
    "| <img src=\"https://img.buymeacoffee.com/api/?name=Mike&size=300&bg-image=bmc&background=5F7FFF\" width=25> | Mike | bought a coffee |  "
   ]
  }
 ],
 "metadata": {
  "kernelspec": {
   "display_name": "Python 3",
   "language": "python",
   "name": "python3"
  },
  "language_info": {
   "codemirror_mode": {
    "name": "ipython",
    "version": 3
   },
   "file_extension": ".py",
   "mimetype": "text/x-python",
   "name": "python",
   "nbconvert_exporter": "python",
   "pygments_lexer": "ipython3",
   "version": "3.8.3"
  }
 },
 "nbformat": 4,
 "nbformat_minor": 4
}
